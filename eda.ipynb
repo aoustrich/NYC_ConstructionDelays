{
 "cells": [
  {
   "cell_type": "code",
   "execution_count": 4,
   "metadata": {},
   "outputs": [],
   "source": [
    "import pandas as pd\n",
    "import seaborn as sns\n",
    "import matplotlib.pyplot as plt\n",
    "import numpy as np\n",
    "milestones = pd.read_csv('data/nycMilestones.csv')\n",
    "# milestones.shape\n",
    "\n",
    "# # https://data.cityofnewyork.us/resource/s7yh-frbm\n",
    "\n",
    "milestones[\"orig_start_date\"] = pd.to_datetime(milestones['orig_start_date'])\n",
    "milestones[\"orig_end_date\"] = pd.to_datetime(milestones['orig_end_date'])\n",
    "milestones[\"task_start_date\"] = pd.to_datetime(milestones['task_start_date'])\n",
    "milestones[\"task_end_date\"] = pd.to_datetime(milestones['task_end_date'])\n",
    "\n",
    "# (milestones['task_start_date'] - milestones['orig_start_date']) / np.timedelta64(1, 'M')\\\n",
    "small = pd.DataFrame()\n",
    "small[[\"project_id\",\"managing_agency\",\"boro\",\"orig_start\",\"actual_start\",\"step\",\"task\"]] = milestones[[\"project_id\",\"managing_agcy\",\"boro\",\"orig_start_date\",\"task_start_date\",\"seq_number\",\"task_description\"]]\n",
    "\n",
    "# milestones[milestones['task_start_date'] < milestones['orig_start_date']].head()\n",
    "small[\"starting_delta\"]= ((milestones.task_start_date - milestones.orig_start_date)/np.timedelta64(1, 'M'))\n",
    "small[\"ending_delta\"]= ((milestones.task_end_date - milestones.orig_end_date)/np.timedelta64(1, 'M'))\n",
    "\n",
    "small.to_csv('data/small.csv')\n"
   ]
  },
  {
   "cell_type": "code",
   "execution_count": 14,
   "metadata": {},
   "outputs": [],
   "source": [
    "numProjects = small[\"project_id\"].nunique()"
   ]
  },
  {
   "cell_type": "markdown",
   "metadata": {},
   "source": [
    "# Q1 - Are Projects *Actually* Delayed?"
   ]
  },
  {
   "cell_type": "code",
   "execution_count": 32,
   "metadata": {},
   "outputs": [
    {
     "data": {
      "text/plain": [
       "0.0017837235228539577"
      ]
     },
     "execution_count": 32,
     "metadata": {},
     "output_type": "execute_result"
    }
   ],
   "source": [
    "# using the small dataframe, group by project and select the max ending_delta and starting_delta\n",
    "late = small.groupby('project_id').agg({'ending_delta': 'max', 'starting_delta': 'max'})\n",
    "\n",
    "# How many projects are completed late?\n",
    "lateFinishProjects = late[late['ending_delta'] > 0].reset_index().shape[0]\n",
    "lateFinishProjects /  numProjects\n",
    "\n",
    "# How many projects are started late?\n",
    "lateStartProjects = late[late['starting_delta'] > 0].reset_index().shape[0]\n",
    "lateStartProjects /  numProjects\n",
    "\n",
    "# How many projects are started late and finished late?\n",
    "lateStartFinishProjects = late[(late['starting_delta'] > 0) & (late['ending_delta'] > 0)].reset_index().shape[0]\n",
    "lateStartFinishProjects /  numProjects\n",
    "\n",
    "# How many projects are finished early?\n",
    "earlyFinishProjects = late[late['ending_delta'] < 0].reset_index().shape[0]\n",
    "earlyFinishProjects /  numProjects\n",
    "\n",
    "# How many projects are started early?\n",
    "earlyStartProjects = late[late['starting_delta'] < 0].reset_index().shape[0]\n",
    "earlyStartProjects /  numProjects\n",
    "\n",
    "# How many projects are started early and finished early?\n",
    "earlyStartFinishProjects = late[(late['starting_delta'] < 0) & (late['ending_delta'] < 0)].reset_index().shape[0]\n",
    "earlyStartFinishProjects /  numProjects\n",
    "\n",
    "# How many projects are started early and finished late?\n",
    "earlyStartLateFinishProjects = late[(late['starting_delta'] < 0) & (late['ending_delta'] > 0)].reset_index().shape[0]\n",
    "earlyStartLateFinishProjects /  numProjects\n",
    "\n",
    "# How many projects are started on time?\n",
    "onTimeStartProjects = late[late['starting_delta'] == 0].reset_index().shape[0]\n",
    "onTimeStartProjects /  numProjects\n",
    "\n",
    "# How many projects are finished on time?\n",
    "onTimeFinishProjects = late[late['ending_delta'] == 0].reset_index().shape[0]\n",
    "onTimeFinishProjects /  numProjects\n",
    "\n",
    "# How many projects are started on time and finished on time?\n",
    "onTimeStartFinishProjects = late[(late['starting_delta'] == 0) & (late['ending_delta'] == 0)].reset_index().shape[0]\n",
    "onTimeStartFinishProjects /  numProjects\n",
    "\n",
    "# How many projects are started on time and finished late?\n",
    "onTimeStartLateFinishProjects = late[(late['starting_delta'] == 0) & (late['ending_delta'] > 0)].reset_index().shape[0]\n",
    "onTimeStartLateFinishProjects /  numProjects\n",
    "\n",
    "# How many projects are started late and finished on time?\n",
    "onTimeStartLateFinishProjects = late[(late['starting_delta'] > 0) & (late['ending_delta'] == 0)].reset_index().shape[0]\n",
    "onTimeStartLateFinishProjects /  numProjects\n",
    "\n",
    "# How many projects are started late and finished early?\n",
    "earlyStartLateFinishProjects = late[(late['starting_delta'] > 0) & (late['ending_delta'] < 0)].reset_index().shape[0]\n",
    "earlyStartLateFinishProjects /  numProjects"
   ]
  },
  {
   "cell_type": "markdown",
   "metadata": {},
   "source": [
    "## Q1 Answer: Yes\n",
    "--> 62.15% of projects were completed late  \n",
    "--> 36.58% of projects were started late  \n",
    "--> 36.19% of projects were both started and completed late  \n",
    "\n",
    "--> 1.5% of projects are finished early  \n",
    "--> 2.5% of projects are finished early  \n",
    "--> 1.3% of projects are started and finished early  \n",
    "--> 1.2% of projects are started early and finished late  \n",
    "\n",
    "--> 60.87% of projects are started on time  \n",
    "--> 36.3% of projects are completed on time  \n",
    "--> 24.8% of projects are started on time but completed late  \n",
    "--> 0.2% of projects are started late and finished on time  \n",
    "--> 0.18% of projects are started late and finished early  \n",
    "\n",
    "Plots\n",
    "- side by side boxplots of time deltas by start and end on time, early, and late\n",
    "- heat map of where time deltas are\n",
    "- "
   ]
  },
  {
   "cell_type": "markdown",
   "metadata": {},
   "source": [
    "#Q2 - How much do these projects cost?\n",
    "- Capital Project Detail Dollars [link](https://data.cityofnewyork.us/City-Government/Capital-Project-Detail-Data-Dollars/wa2y-rh4b)\n",
    "\n",
    "filter the dollars data by projects that are completed \n",
    "- add buckets for months? \n",
    "- \n"
   ]
  },
  {
   "cell_type": "code",
   "execution_count": 33,
   "metadata": {},
   "outputs": [
    {
     "data": {
      "text/html": [
       "<div>\n",
       "<style scoped>\n",
       "    .dataframe tbody tr th:only-of-type {\n",
       "        vertical-align: middle;\n",
       "    }\n",
       "\n",
       "    .dataframe tbody tr th {\n",
       "        vertical-align: top;\n",
       "    }\n",
       "\n",
       "    .dataframe thead th {\n",
       "        text-align: right;\n",
       "    }\n",
       "</style>\n",
       "<table border=\"1\" class=\"dataframe\">\n",
       "  <thead>\n",
       "    <tr style=\"text-align: right;\">\n",
       "      <th></th>\n",
       "      <th>project_id</th>\n",
       "      <th>managing_agency</th>\n",
       "      <th>boro</th>\n",
       "      <th>orig_start</th>\n",
       "      <th>actual_start</th>\n",
       "      <th>step</th>\n",
       "      <th>task</th>\n",
       "      <th>starting_delta</th>\n",
       "      <th>ending_delta</th>\n",
       "    </tr>\n",
       "  </thead>\n",
       "  <tbody>\n",
       "    <tr>\n",
       "      <th>3053</th>\n",
       "      <td>L103RENO</td>\n",
       "      <td>NEW YORK RESEARCH LIBRARY</td>\n",
       "      <td>CITYWIDE</td>\n",
       "      <td>2022-10-10</td>\n",
       "      <td>2022-06-11</td>\n",
       "      <td>1</td>\n",
       "      <td>DESIGN</td>\n",
       "      <td>-3.975441</td>\n",
       "      <td>9.035093</td>\n",
       "    </tr>\n",
       "    <tr>\n",
       "      <th>3054</th>\n",
       "      <td>L103RENO</td>\n",
       "      <td>NEW YORK RESEARCH LIBRARY</td>\n",
       "      <td>CITYWIDE</td>\n",
       "      <td>2022-03-11</td>\n",
       "      <td>2022-12-11</td>\n",
       "      <td>2</td>\n",
       "      <td>BID AWARD AND REGISTER CONTRCT</td>\n",
       "      <td>9.035093</td>\n",
       "      <td>-2.989794</td>\n",
       "    </tr>\n",
       "    <tr>\n",
       "      <th>3055</th>\n",
       "      <td>L103RENO</td>\n",
       "      <td>NEW YORK RESEARCH LIBRARY</td>\n",
       "      <td>CITYWIDE</td>\n",
       "      <td>2022-06-11</td>\n",
       "      <td>2022-03-12</td>\n",
       "      <td>3</td>\n",
       "      <td>CONSTRUCTION</td>\n",
       "      <td>-2.989794</td>\n",
       "      <td>-2.989794</td>\n",
       "    </tr>\n",
       "    <tr>\n",
       "      <th>3056</th>\n",
       "      <td>L103RENO</td>\n",
       "      <td>NEW YORK RESEARCH LIBRARY</td>\n",
       "      <td>CITYWIDE</td>\n",
       "      <td>2022-06-12</td>\n",
       "      <td>2022-03-13</td>\n",
       "      <td>4</td>\n",
       "      <td>PUNCHLIST COMPLETE, JOB CLOSED</td>\n",
       "      <td>-2.989794</td>\n",
       "      <td>-5.585330</td>\n",
       "    </tr>\n",
       "  </tbody>\n",
       "</table>\n",
       "</div>"
      ],
      "text/plain": [
       "     project_id            managing_agency      boro orig_start actual_start  \\\n",
       "3053   L103RENO  NEW YORK RESEARCH LIBRARY  CITYWIDE 2022-10-10   2022-06-11   \n",
       "3054   L103RENO  NEW YORK RESEARCH LIBRARY  CITYWIDE 2022-03-11   2022-12-11   \n",
       "3055   L103RENO  NEW YORK RESEARCH LIBRARY  CITYWIDE 2022-06-11   2022-03-12   \n",
       "3056   L103RENO  NEW YORK RESEARCH LIBRARY  CITYWIDE 2022-06-12   2022-03-13   \n",
       "\n",
       "      step                            task  starting_delta  ending_delta  \n",
       "3053     1                          DESIGN       -3.975441      9.035093  \n",
       "3054     2  BID AWARD AND REGISTER CONTRCT        9.035093     -2.989794  \n",
       "3055     3                    CONSTRUCTION       -2.989794     -2.989794  \n",
       "3056     4  PUNCHLIST COMPLETE, JOB CLOSED       -2.989794     -5.585330  "
      ]
     },
     "execution_count": 33,
     "metadata": {},
     "output_type": "execute_result"
    }
   ],
   "source": [
    "small[small[\"project_id\"]==\"L103RENO\"]"
   ]
  },
  {
   "cell_type": "markdown",
   "metadata": {},
   "source": [
    "## Avg Project Task Delay by Managing Agency"
   ]
  },
  {
   "cell_type": "code",
   "execution_count": null,
   "metadata": {},
   "outputs": [],
   "source": [
    "# # Vertical bar\n",
    "# small.groupby('managing_agency').mean().plot(kind='bar');\n",
    "# plt.title('Average Project Delay (Months) \\nby Managing Agency');\n",
    "# plt.ylabel('Months');\n",
    "# plt.xlabel('Managing Agency');\n",
    "# plt.xticks(rotation=45,ha='right');\n",
    "# plt.legend(['Starting Delay','Ending Delay'],loc='upper left', bbox_to_anchor=(-0.5, 1));\n",
    "\n",
    "# Horizontal bar\n",
    "small.groupby('managing_agency').mean().plot(kind='barh');\n",
    "plt.title('Average Task Delay (Months) \\nby Managing Agency');\n",
    "plt.ylabel('Managing Agency');\n",
    "plt.xlabel('Months');\n",
    "plt.legend(['Starting Delay','Ending Delay'],loc='upper right');\n",
    "plt.savefig('plots/avg_delay_by_agency.png');"
   ]
  },
  {
   "cell_type": "markdown",
   "metadata": {},
   "source": [
    "## Top 5 Projects (Late and Early)"
   ]
  },
  {
   "cell_type": "code",
   "execution_count": null,
   "metadata": {},
   "outputs": [],
   "source": [
    "small[#( small['step'] == 1 ) &\n",
    "        (small['task'] == 'CONSTRUCTION START') &\n",
    "        ( small['starting_delay_m'] > 0 )\n",
    "      ].sort_values(by='starting_delay_m',ascending=False).head(10)"
   ]
  }
 ],
 "metadata": {
  "kernelspec": {
   "display_name": "Python 3",
   "language": "python",
   "name": "python3"
  },
  "language_info": {
   "codemirror_mode": {
    "name": "ipython",
    "version": 3
   },
   "file_extension": ".py",
   "mimetype": "text/x-python",
   "name": "python",
   "nbconvert_exporter": "python",
   "pygments_lexer": "ipython3",
   "version": "3.11.0"
  }
 },
 "nbformat": 4,
 "nbformat_minor": 2
}
