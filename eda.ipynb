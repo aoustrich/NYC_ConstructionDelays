{
 "cells": [
  {
   "cell_type": "code",
   "execution_count": 3,
   "metadata": {},
   "outputs": [],
   "source": [
    "import pandas as pd\n",
    "import seaborn as sns\n",
    "import matplotlib.pyplot as plt\n",
    "import numpy as np\n",
    "milestones = pd.read_csv('data/nycMilestones.csv')\n",
    "# milestones.shape\n",
    "\n",
    "# # https://data.cityofnewyork.us/resource/s7yh-frbm\n",
    "\n",
    "milestones[\"orig_start_date\"] = pd.to_datetime(milestones['orig_start_date'])\n",
    "milestones[\"orig_end_date\"] = pd.to_datetime(milestones['orig_end_date'])\n",
    "milestones[\"task_start_date\"] = pd.to_datetime(milestones['task_start_date'])\n",
    "milestones[\"task_end_date\"] = pd.to_datetime(milestones['task_end_date'])\n",
    "\n",
    "# (milestones['task_start_date'] - milestones['orig_start_date']) / np.timedelta64(1, 'M')\\\n",
    "small = pd.DataFrame()\n",
    "small[[\"project_id\",\"managing_agency\",\"boro\",\"orig_start\",\"actual_start\",\"step\",\"task\"]] = milestones[[\"project_id\",\"managing_agcy\",\"boro\",\"orig_start_date\",\"task_start_date\",\"seq_number\",\"task_description\"]]\n",
    "\n",
    "# milestones[milestones['task_start_date'] < milestones['orig_start_date']].head()\n",
    "small[\"starting_delta\"]= ((milestones.task_start_date - milestones.orig_start_date)/np.timedelta64(1, 'M'))\n",
    "small[\"ending_delta\"]= ((milestones.task_end_date - milestones.orig_end_date)/np.timedelta64(1, 'M'))\n",
    "\n",
    "\"\"\" Negative starting and ending deltas mean the task was started earlier than scheduled!!! \"\"\"\n",
    "\n",
    "small[\"starting_delta\"] = small[\"starting_delta\"].astype(int)\n",
    "small[\"ending_delta\"] = small[\"ending_delta\"].astype(int)\n",
    "\n",
    "small.to_csv('data/small.csv')\n"
   ]
  },
  {
   "cell_type": "code",
   "execution_count": 46,
   "metadata": {},
   "outputs": [
    {
     "data": {
      "text/plain": [
       "8970"
      ]
     },
     "execution_count": 46,
     "metadata": {},
     "output_type": "execute_result"
    }
   ],
   "source": [
    "numProjects = small[\"project_id\"].nunique()\n",
    "numProjects"
   ]
  },
  {
   "cell_type": "markdown",
   "metadata": {},
   "source": [
    "# Q1 - Are Projects *Actually* Delayed?"
   ]
  },
  {
   "cell_type": "code",
   "execution_count": 4,
   "metadata": {},
   "outputs": [],
   "source": [
    "projectStarts = small.groupby('project_id').agg({'step': 'min', 'starting_delta': 'first'}).reset_index()[['project_id','starting_delta']]\n",
    "\n",
    "projectStarts['startStatus'] = np.select(\n",
    "    [\n",
    "        (projectStarts['starting_delta'] < 0),    # Condition for \"early\"\n",
    "        (projectStarts['starting_delta'] > 0)     # Condition for \"late\"\n",
    "    ],\n",
    "    [\n",
    "        'Early',\n",
    "        'Late'\n",
    "    ],\n",
    "    default='On Time'  # Default value if none of the conditions are met\n",
    ")\n",
    "\n",
    "projectFinishes = small.groupby('project_id').agg({'step': 'max', 'ending_delta': 'first'}).reset_index()[['project_id','ending_delta']]\n",
    "\n",
    "projectFinishes['endStatus'] = np.select(\n",
    "    [\n",
    "        (projectFinishes['ending_delta'] < 0),    # Condition for \"early\"\n",
    "        (projectFinishes['ending_delta'] > 0)     # Condition for \"late\"\n",
    "    ],\n",
    "    [\n",
    "        'Early',\n",
    "        'Late'\n",
    "    ],\n",
    "    default='On Time'  # Default value if none of the conditions are met\n",
    ")\n",
    "\n"
   ]
  },
  {
   "cell_type": "code",
   "execution_count": 33,
   "metadata": {},
   "outputs": [],
   "source": [
    "projectDeltas = pd.DataFrame()\n",
    "\n",
    "projectDeltas[['Project ID','Start Status']]=projectStarts[['project_id','startStatus']]\n",
    "\n",
    "projectDeltas['End Status']=projectFinishes['endStatus']\n",
    "\n",
    "deltasHeatMapDF = projectDeltas.groupby(['Start Status','End Status']).size().unstack()\n",
    "deltasHeatMapDF = deltasHeatMapDF.reindex(columns=[\"Early\",\"On Time\",\"Late\"],index=[\"Early\",\"On Time\",\"Late\"]).T"
   ]
  },
  {
   "cell_type": "code",
   "execution_count": null,
   "metadata": {},
   "outputs": [],
   "source": [
    "sns.heatmap(deltasHeatMapDF,\n",
    "            annot=True,\n",
    "            fmt=\"d\",\n",
    "            linewidths=.5);"
   ]
  },
  {
   "cell_type": "markdown",
   "metadata": {},
   "source": [
    "## Box plots and Showing Skewed Data"
   ]
  },
  {
   "cell_type": "code",
   "execution_count": 71,
   "metadata": {},
   "outputs": [
    {
     "name": "stderr",
     "output_type": "stream",
     "text": [
      "/Library/Frameworks/Python.framework/Versions/3.11/lib/python3.11/site-packages/pandas/core/arraylike.py:402: RuntimeWarning: divide by zero encountered in log\n",
      "  result = getattr(ufunc, method)(*inputs, **kwargs)\n",
      "/Library/Frameworks/Python.framework/Versions/3.11/lib/python3.11/site-packages/pandas/core/arraylike.py:402: RuntimeWarning: invalid value encountered in log\n",
      "  result = getattr(ufunc, method)(*inputs, **kwargs)\n"
     ]
    },
    {
     "data": {
      "text/plain": [
       "<AxesSubplot: xlabel='startStatus', ylabel='logStartDelta'>"
      ]
     },
     "execution_count": 71,
     "metadata": {},
     "output_type": "execute_result"
    },
    {
     "data": {
      "image/png": "[encoded data removed]",
      "text/plain": [
       "<Figure size 640x480 with 1 Axes>"
      ]
     },
     "metadata": {},
     "output_type": "display_data"
    }
   ],
   "source": [
    "# # make box and whisker plots for projectStarts and projectFinishes where they weren't started or finished on time\n",
    "# sns.boxplot(x=\"startStatus\", y=\"starting_delta\", data=projectStarts[projectStarts['startStatus'] != 'On Time'])\n",
    "# sns.boxplot(x=\"endStatus\", y=\"ending_delta\", data=projectFinishes[projectFinishes['ending_delta'] != 0])\n",
    "\n",
    "\n",
    "\"\"\" how to hangle skeweness of the data? \n",
    "    - if we convert to log scale then negative values will be undefined\n",
    "        -> try doing an np.select to convert the negative values to positive, then take the log, then convert back to negative\n",
    "\"\"\"\n",
    "\n",
    "\n",
    "projectStarts['logStartDelta'] = np.log(projectStarts['starting_delta'])\n",
    "projectFinishes['logFinishDelta'] = np.log(projectFinishes['ending_delta'])\n",
    "\n",
    "# logStartDeltas = np.log(projectStarts[projectStarts['starting_delta'] != 0]['starting_delta'])\n",
    "# logFinishDeltas = np.log(projectFinishes[projectFinishes['ending_delta'] != 0]['ending_delta'])\n",
    "# sns.displot(logStartDeltas, kde=True);\n",
    "# sns.displot(logFinishDeltas, kde=True);\n",
    "\n",
    "\n",
    "# sns.violinplot(x=\"startStatus\", y=\"logStartDelta\", data=projectStarts[projectStarts['startStatus'] != 'On Time'])\n",
    "# sns.displot(projectStarts[projectStarts['startStatus'] != 'On Time']['starting_delta'], bins=20, kde=False, rug=True);"
   ]
  },
  {
   "cell_type": "markdown",
   "metadata": {},
   "source": [
    "## Q1 Answer: Kind of\n",
    "-> 25.2% of projects were late (2170/8970 )  \n",
    "-> 94.7% of projects that were started late were finished late (1672/1765)  \n",
    "-> 67.2% of projects were completed on time (6032/8970)\n",
    "\n",
    "Plots\n",
    "- side by side boxplots of time deltas by start and end on time, early, and late\n",
    "- [ x ] heat map of where time deltas are\n",
    "- "
   ]
  },
  {
   "cell_type": "markdown",
   "metadata": {},
   "source": [
    "#Q2 - How much do these projects cost?\n",
    "- Capital Project Detail Dollars [link](https://data.cityofnewyork.us/City-Government/Capital-Project-Detail-Data-Dollars/wa2y-rh4b)\n",
    "\n",
    "filter the dollars data by projects that are completed \n",
    "- add buckets for months? \n",
    "- \n"
   ]
  },
  {
   "cell_type": "code",
   "execution_count": 33,
   "metadata": {},
   "outputs": [
    {
     "data": {
      "text/html": [
       "<div>\n",
       "<style scoped>\n",
       "    .dataframe tbody tr th:only-of-type {\n",
       "        vertical-align: middle;\n",
       "    }\n",
       "\n",
       "    .dataframe tbody tr th {\n",
       "        vertical-align: top;\n",
       "    }\n",
       "\n",
       "    .dataframe thead th {\n",
       "        text-align: right;\n",
       "    }\n",
       "</style>\n",
       "<table border=\"1\" class=\"dataframe\">\n",
       "  <thead>\n",
       "    <tr style=\"text-align: right;\">\n",
       "      <th></th>\n",
       "      <th>project_id</th>\n",
       "      <th>managing_agency</th>\n",
       "      <th>boro</th>\n",
       "      <th>orig_start</th>\n",
       "      <th>actual_start</th>\n",
       "      <th>step</th>\n",
       "      <th>task</th>\n",
       "      <th>starting_delta</th>\n",
       "      <th>ending_delta</th>\n",
       "    </tr>\n",
       "  </thead>\n",
       "  <tbody>\n",
       "    <tr>\n",
       "      <th>3053</th>\n",
       "      <td>L103RENO</td>\n",
       "      <td>NEW YORK RESEARCH LIBRARY</td>\n",
       "      <td>CITYWIDE</td>\n",
       "      <td>2022-10-10</td>\n",
       "      <td>2022-06-11</td>\n",
       "      <td>1</td>\n",
       "      <td>DESIGN</td>\n",
       "      <td>-3.975441</td>\n",
       "      <td>9.035093</td>\n",
       "    </tr>\n",
       "    <tr>\n",
       "      <th>3054</th>\n",
       "      <td>L103RENO</td>\n",
       "      <td>NEW YORK RESEARCH LIBRARY</td>\n",
       "      <td>CITYWIDE</td>\n",
       "      <td>2022-03-11</td>\n",
       "      <td>2022-12-11</td>\n",
       "      <td>2</td>\n",
       "      <td>BID AWARD AND REGISTER CONTRCT</td>\n",
       "      <td>9.035093</td>\n",
       "      <td>-2.989794</td>\n",
       "    </tr>\n",
       "    <tr>\n",
       "      <th>3055</th>\n",
       "      <td>L103RENO</td>\n",
       "      <td>NEW YORK RESEARCH LIBRARY</td>\n",
       "      <td>CITYWIDE</td>\n",
       "      <td>2022-06-11</td>\n",
       "      <td>2022-03-12</td>\n",
       "      <td>3</td>\n",
       "      <td>CONSTRUCTION</td>\n",
       "      <td>-2.989794</td>\n",
       "      <td>-2.989794</td>\n",
       "    </tr>\n",
       "    <tr>\n",
       "      <th>3056</th>\n",
       "      <td>L103RENO</td>\n",
       "      <td>NEW YORK RESEARCH LIBRARY</td>\n",
       "      <td>CITYWIDE</td>\n",
       "      <td>2022-06-12</td>\n",
       "      <td>2022-03-13</td>\n",
       "      <td>4</td>\n",
       "      <td>PUNCHLIST COMPLETE, JOB CLOSED</td>\n",
       "      <td>-2.989794</td>\n",
       "      <td>-5.585330</td>\n",
       "    </tr>\n",
       "  </tbody>\n",
       "</table>\n",
       "</div>"
      ],
      "text/plain": [
       "     project_id            managing_agency      boro orig_start actual_start  \\\n",
       "3053   L103RENO  NEW YORK RESEARCH LIBRARY  CITYWIDE 2022-10-10   2022-06-11   \n",
       "3054   L103RENO  NEW YORK RESEARCH LIBRARY  CITYWIDE 2022-03-11   2022-12-11   \n",
       "3055   L103RENO  NEW YORK RESEARCH LIBRARY  CITYWIDE 2022-06-11   2022-03-12   \n",
       "3056   L103RENO  NEW YORK RESEARCH LIBRARY  CITYWIDE 2022-06-12   2022-03-13   \n",
       "\n",
       "      step                            task  starting_delta  ending_delta  \n",
       "3053     1                          DESIGN       -3.975441      9.035093  \n",
       "3054     2  BID AWARD AND REGISTER CONTRCT        9.035093     -2.989794  \n",
       "3055     3                    CONSTRUCTION       -2.989794     -2.989794  \n",
       "3056     4  PUNCHLIST COMPLETE, JOB CLOSED       -2.989794     -5.585330  "
      ]
     },
     "execution_count": 33,
     "metadata": {},
     "output_type": "execute_result"
    }
   ],
   "source": [
    "small[small[\"project_id\"]==\"L103RENO\"]"
   ]
  },
  {
   "cell_type": "markdown",
   "metadata": {},
   "source": [
    "## Avg Project Task Delay by Managing Agency"
   ]
  },
  {
   "cell_type": "code",
   "execution_count": null,
   "metadata": {},
   "outputs": [],
   "source": [
    "# # Vertical bar\n",
    "# small.groupby('managing_agency').mean().plot(kind='bar');\n",
    "# plt.title('Average Project Delay (Months) \\nby Managing Agency');\n",
    "# plt.ylabel('Months');\n",
    "# plt.xlabel('Managing Agency');\n",
    "# plt.xticks(rotation=45,ha='right');\n",
    "# plt.legend(['Starting Delay','Ending Delay'],loc='upper left', bbox_to_anchor=(-0.5, 1));\n",
    "\n",
    "# Horizontal bar\n",
    "small.groupby('managing_agency').mean().plot(kind='barh');\n",
    "plt.title('Average Task Delay (Months) \\nby Managing Agency');\n",
    "plt.ylabel('Managing Agency');\n",
    "plt.xlabel('Months');\n",
    "plt.legend(['Starting Delay','Ending Delay'],loc='upper right');\n",
    "plt.savefig('plots/avg_delay_by_agency.png');"
   ]
  },
  {
   "cell_type": "markdown",
   "metadata": {},
   "source": [
    "## Top 5 Projects (Late and Early)"
   ]
  },
  {
   "cell_type": "code",
   "execution_count": null,
   "metadata": {},
   "outputs": [],
   "source": [
    "small[#( small['step'] == 1 ) &\n",
    "        (small['task'] == 'CONSTRUCTION START') &\n",
    "        ( small['starting_delay_m'] > 0 )\n",
    "      ].sort_values(by='starting_delay_m',ascending=False).head(10)"
   ]
  }
 ],
 "metadata": {
  "kernelspec": {
   "display_name": "Python 3.10.8 64-bit",
   "language": "python",
   "name": "python3"
  },
  "language_info": {
   "codemirror_mode": {
    "name": "ipython",
    "version": 3
   },
   "file_extension": ".py",
   "mimetype": "text/x-python",
   "name": "python",
   "nbconvert_exporter": "python",
   "pygments_lexer": "ipython3",
   "version": "3.10.8"
  },
  "vscode": {
   "interpreter": {
    "hash": "aee8b7b246df8f9039afb4144a1f6fd8d2ca17a180786b69acc140d282b71a49"
   }
  }
 },
 "nbformat": 4,
 "nbformat_minor": 2
}
